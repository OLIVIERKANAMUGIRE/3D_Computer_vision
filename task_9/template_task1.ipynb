{
 "cells": [
  {
   "cell_type": "markdown",
   "metadata": {},
   "source": [
    "# Exercise 9\n",
    "Olivier Kanamugire\n",
    "\n",
    "## Task 1 - Linear Triangulation with DLT (2 points)"
   ]
  },
  {
   "cell_type": "code",
   "execution_count": 1,
   "metadata": {},
   "outputs": [],
   "source": [
    "import numpy as np\n",
    "import h5py"
   ]
  },
  {
   "cell_type": "markdown",
   "metadata": {},
   "source": [
    "#### (a) Load the fundamental matrix F and points from task1.mat"
   ]
  },
  {
   "cell_type": "code",
   "execution_count": 2,
   "metadata": {},
   "outputs": [],
   "source": [
    "# load file for Task 1\n",
    "with h5py.File('task1.mat', 'r') as file:\n",
    "    data = {key: np.array(file[key]).T for key in file.keys()}\n",
    "\n",
    "F = data[\"F\"]\n",
    "points_l = np.concatenate([data[\"points_l\"], np.ones((1, data[\"points_l\"].shape[1]))], axis=0)\n",
    "points_r = np.concatenate([data[\"points_r\"], np.ones((1, data[\"points_r\"].shape[1]))], axis=0)"
   ]
  },
  {
   "cell_type": "code",
   "execution_count": 3,
   "metadata": {},
   "outputs": [
    {
     "data": {
      "text/plain": [
       "array([[ 1.92914000e-06,  3.85751891e-06, -1.75411815e-03],\n",
       "       [-7.88234869e-06,  4.28121773e-06,  1.05959161e-02],\n",
       "       [-2.10406355e-03, -1.10758937e-02,  7.38170021e-01]])"
      ]
     },
     "execution_count": 3,
     "metadata": {},
     "output_type": "execute_result"
    }
   ],
   "source": [
    "F"
   ]
  },
  {
   "cell_type": "markdown",
   "metadata": {},
   "source": [
    "#### (b) Create camera matrices ML and MR by using the definitions from Slide 26 of the lecture slides 8."
   ]
  },
  {
   "cell_type": "markdown",
   "metadata": {},
   "source": [
    "The camera matrices for the left and right cameras are defined as:\n",
    "\n",
    "$$\n",
    "M_L = \\begin{bmatrix} I &| 0 \\end{bmatrix}\n",
    "$$\n",
    "\n",
    "$$\n",
    "M_R = \\begin{bmatrix} [e_R]_\\times F &| e_R \\end{bmatrix}\n",
    "$$\n",
    "\n",
    "where $[e_R]_\\times$ is the skew-symmetric matrix corresponding to the epipole vector \\( e_R = (e_1, e_2, e_3)^T \\):\n",
    "\n",
    "$$\n",
    "[e]_\\times = \\begin{bmatrix} \n",
    "0 & -e_3 & e_2 \\\\\n",
    "e_3 & 0 & -e_1 \\\\\n",
    "-e_2 & e_1 & 0\n",
    "\\end{bmatrix}\n",
    "$$\n"
   ]
  },
  {
   "cell_type": "code",
   "execution_count": 4,
   "metadata": {},
   "outputs": [
    {
     "name": "stdout",
     "output_type": "stream",
     "text": [
      "The right epipole is:  [2.49091090e+03 3.42696372e+02 1.00000000e+00]\n",
      "The left epipole is:  [ 1.25134452e+03 -1.71068668e+02  1.00000000e+00]\n"
     ]
    }
   ],
   "source": [
    "# compute epipoles\n",
    "U, S, Vt = np.linalg.svd(F.T)\n",
    "# Epipole in the right image\n",
    "eR = Vt[-1]  \n",
    "# Normalize\n",
    "eR /= eR[-1]\n",
    "\n",
    "U, S, Vt = np.linalg.svd(F)\n",
    "# Epipole in the left image\n",
    "el = Vt[-1]  \n",
    "# Normalize\n",
    "el /= el[-1]  \n",
    "\n",
    "print('The right epipole is: ', eR)\n",
    "print('The left epipole is: ', el)"
   ]
  },
  {
   "cell_type": "code",
   "execution_count": 5,
   "metadata": {},
   "outputs": [
    {
     "data": {
      "text/plain": [
       "array([[ 0.00000000e+00, -1.00000000e+00,  3.42696372e+02],\n",
       "       [ 1.00000000e+00,  0.00000000e+00, -2.49091090e+03],\n",
       "       [-3.42696372e+02,  2.49091090e+03,  0.00000000e+00]])"
      ]
     },
     "execution_count": 5,
     "metadata": {},
     "output_type": "execute_result"
    }
   ],
   "source": [
    "# Compute skew-symmetric matrix of eR\n",
    "eR_x = np.array([\n",
    "    [0, -eR[2], eR[1]],\n",
    "    [eR[2], 0, -eR[0]],\n",
    "    [-eR[1], eR[0], 0]\n",
    "])\n",
    "eR_x"
   ]
  },
  {
   "cell_type": "code",
   "execution_count": 6,
   "metadata": {},
   "outputs": [
    {
     "name": "stdout",
     "output_type": "stream",
     "text": [
      "Left Camera Matrix (Ml):\n",
      " [[1. 0. 0. 0.]\n",
      " [0. 1. 0. 0.]\n",
      " [0. 0. 1. 0.]]\n",
      "\n",
      "Right Camera Matrix (Mr):\n",
      " [[-7.21047062e-01 -3.79567286e+00  2.52957592e+02  2.49091090e+03]\n",
      " [ 5.24103676e+00  2.75890682e+01 -1.83871751e+03  3.42696372e+02]\n",
      " [-2.02953376e-02  9.34217419e-03  2.69946128e+01  1.00000000e+00]]\n"
     ]
    }
   ],
   "source": [
    "# find camera matrices Mr and Ml\n",
    "Ml = np.hstack((np.eye(3), np.zeros((3, 1))))  # M_L = [I | 0]\n",
    "Mr = np.hstack((eR_x @ F, eR.reshape(3, 1)))  # M_R = [ [eR]_x * F | eR ]\n",
    "\n",
    "# Print results\n",
    "print(\"Left Camera Matrix (Ml):\\n\", Ml)\n",
    "print(\"\\nRight Camera Matrix (Mr):\\n\", Mr)\n"
   ]
  },
  {
   "cell_type": "markdown",
   "metadata": {},
   "source": [
    "#### c) LINEAR TRIANGULATION"
   ]
  },
  {
   "cell_type": "code",
   "execution_count": 7,
   "metadata": {},
   "outputs": [],
   "source": [
    "def triangulate_point(pL, pR, ML, MR):\n",
    "    A = np.array([\n",
    "        pL[0] * ML[2] - ML[0], \n",
    "        pL[1] * ML[2] - ML[1], \n",
    "        pR[0] * MR[2] - MR[0],  \n",
    "        pR[1] * MR[2] - MR[1]   \n",
    "    ])\n",
    "    \n",
    "    # Solve AP = 0 using SVD\n",
    "    _, _, Vt = np.linalg.svd(A)\n",
    "    P = Vt[-1]  \n",
    "\n",
    "    # Normalize the homogeneous coordinate\n",
    "    P = P / P[-1]  \n",
    "\n",
    "    return P[:3]  "
   ]
  },
  {
   "cell_type": "markdown",
   "metadata": {},
   "source": [
    "#### Looping "
   ]
  },
  {
   "cell_type": "code",
   "execution_count": 8,
   "metadata": {},
   "outputs": [
    {
     "name": "stdout",
     "output_type": "stream",
     "text": [
      "Triangulated 3D points:\n",
      " [[1.32784822e+02 9.53824490e+01 8.86565301e+01 9.79170834e+01\n",
      "  8.96404093e+01 7.83697189e+01 1.40212593e+02 1.29959924e+02\n",
      "  7.86528675e+01]\n",
      " [1.08760522e+02 1.90363973e+01 2.43472769e+01 6.64050071e+01\n",
      "  7.51157081e+01 6.09488470e+02 3.19403470e+02 1.32303905e+02\n",
      "  5.84577233e+01]\n",
      " [5.32871118e-01 3.79732883e-01 4.77246695e-01 5.24729204e-01\n",
      "  9.28189804e-01 4.11747887e+00 1.59633442e+00 6.44138792e-01\n",
      "  1.08222805e+00]]\n"
     ]
    }
   ],
   "source": [
    "def triangulate_points(points_l, points_r, ML, MR):\n",
    "    num_points = points_l.shape[1]\n",
    "    P_3D = np.zeros((3, num_points))  # Store triangulated 3D points\n",
    "\n",
    "    for i in range(num_points):\n",
    "        P_3D[:, i] = triangulate_point(points_l[:, i], points_r[:, i], ML, MR)\n",
    "\n",
    "    return P_3D\n",
    "\n",
    "P_3D = triangulate_points(points_l, points_r, Ml, Mr)\n",
    "print(\"Triangulated 3D points:\\n\", P_3D)"
   ]
  },
  {
   "cell_type": "code",
   "execution_count": 9,
   "metadata": {},
   "outputs": [
    {
     "name": "stdout",
     "output_type": "stream",
     "text": [
      "Reprojection Error: 0.000520570040926605\n"
     ]
    }
   ],
   "source": [
    "# compute and print the error\n",
    "def project_points(P_3D, M):\n",
    "    # Convert to homogeneous coordinates (4, N)\n",
    "    P_homogeneous = np.vstack((P_3D, np.ones((1, P_3D.shape[1]))))\n",
    "\n",
    "    # Project onto image plane\n",
    "    projected_2D = M @ P_homogeneous  \n",
    "\n",
    "    # Normalize \n",
    "    projected_2D /= projected_2D[2]  \n",
    "\n",
    "    return projected_2D[:2] \n",
    "\n",
    "def compute_reprojection_error(P_3D, points_l, points_r, ML, MR):\n",
    "    # Project 3D points back to 2D\n",
    "    projected_l = project_points(P_3D, ML) \n",
    "    projected_r = project_points(P_3D, MR)  \n",
    "\n",
    "    # Compute squared error\n",
    "    error_l = np.sum((points_l[:2] - projected_l) ** 2)  \n",
    "    error_r = np.sum((points_r[:2] - projected_r) ** 2)\n",
    "\n",
    "    total_error = error_l + error_r\n",
    "\n",
    "    return total_error\n",
    "\n",
    "# Compute the reprojection error\n",
    "error = compute_reprojection_error(P_3D, points_l, points_r, Ml, Mr)\n",
    "print(\"Reprojection Error:\", error)"
   ]
  },
  {
   "cell_type": "code",
   "execution_count": 12,
   "metadata": {},
   "outputs": [],
   "source": [
    "projected_l = project_points(P_3D, Ml) \n",
    "projected_r = project_points(P_3D, Mr)  \n",
    "\n",
    "error_l = [np.sum((points_l[:2] - projected_l) ** 2) ]\n",
    "error_r = [np.sum((points_r[:2] - projected_r) ** 2)]"
   ]
  },
  {
   "cell_type": "markdown",
   "metadata": {},
   "source": [
    "##### The reprojection error is negligible, even when evaluated using the L2 norm. This indicates that the projected points are very close to the actual points."
   ]
  },
  {
   "cell_type": "markdown",
   "metadata": {},
   "source": []
  }
 ],
 "metadata": {
  "kernelspec": {
   "display_name": "Python 3",
   "language": "python",
   "name": "python3"
  },
  "language_info": {
   "codemirror_mode": {
    "name": "ipython",
    "version": 3
   },
   "file_extension": ".py",
   "mimetype": "text/x-python",
   "name": "python",
   "nbconvert_exporter": "python",
   "pygments_lexer": "ipython3",
   "version": "3.12.3"
  }
 },
 "nbformat": 4,
 "nbformat_minor": 2
}
