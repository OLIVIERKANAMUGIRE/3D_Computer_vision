{
 "cells": [
  {
   "cell_type": "markdown",
   "metadata": {},
   "source": [
    "# Computer Vision - Exercise 1\n",
    "FIRSTNAME LASTNAME"
   ]
  },
  {
   "cell_type": "markdown",
   "metadata": {},
   "source": [
    "## Task 1. Image processing (1 point)."
   ]
  },
  {
   "cell_type": "code",
   "execution_count": 29,
   "metadata": {},
   "outputs": [],
   "source": [
    "import cv2 as cv\n",
    "import matplotlib.pyplot as plt\n",
    "import numpy as np\n",
    "\n",
    "# TODO: read image and show the image\n"
   ]
  },
  {
   "cell_type": "markdown",
   "metadata": {},
   "source": [
    "## Task 2. 3-D plots and coordinate frames (1 points)."
   ]
  },
  {
   "cell_type": "code",
   "execution_count": null,
   "metadata": {},
   "outputs": [],
   "source": [
    "def plot_frame(ax, T):\n",
    "    \"\"\"Function that plots the world frames\"\"\"\n",
    "    #TODO implement the function\n",
    "\n",
    "# World homogenous matrix\n",
    "T_W = np.eye(...)\n",
    "\n",
    "# Plot the world frame\n",
    "fig = plt.figure()\n",
    "ax = fig.add_subplot(111, projection='3d')\n",
    "plot_frame(ax, T_W)\n",
    "\n",
    "# Camera homogenous matrix\n",
    "T_C = np.array(...)\n",
    "\n",
    "# Plot the camera frame\n",
    "fig = plt.figure()\n",
    "ax = fig.add_subplot(111, projection='3d')\n",
    "plot_frame(ax, T_C)\n"
   ]
  },
  {
   "cell_type": "markdown",
   "metadata": {},
   "source": [
    "## Task 3. Transformations between frames (1 point)."
   ]
  },
  {
   "cell_type": "markdown",
   "metadata": {},
   "source": [
    "### Plot frames respect to world frame"
   ]
  },
  {
   "cell_type": "code",
   "execution_count": 33,
   "metadata": {},
   "outputs": [],
   "source": [
    "# World homogenous matrix\n",
    "wT_W = ...\n",
    "\n",
    "# Robot homogenous matrix \n",
    "wT_R = ...\n",
    "\n",
    "# Camera homogenous matrix\n",
    "wT_C = ...\n",
    "\n",
    "# Plot the coordinate systems in world frame using the 'plot_frame' function \n",
    "\n",
    "# Set title and add annotations\n"
   ]
  },
  {
   "cell_type": "markdown",
   "metadata": {},
   "source": [
    "### Plot frames respect to robot frame"
   ]
  },
  {
   "cell_type": "code",
   "execution_count": 32,
   "metadata": {},
   "outputs": [],
   "source": [
    "# Find the transformation from world to robot frame\n",
    "\n",
    "# Find the frames in robot frame. (How to do matrix multiplication in python?)\n",
    "\n",
    "# Plot the coordinate systems in world frame using the 'plot_frame' function \n",
    "\n",
    "# Set title and add annotations\n",
    "\n"
   ]
  },
  {
   "cell_type": "markdown",
   "metadata": {},
   "source": [
    "### Plot frames respect to camera frame"
   ]
  },
  {
   "cell_type": "code",
   "execution_count": 1,
   "metadata": {},
   "outputs": [],
   "source": [
    "# Find the transformation from world to camera frame\n",
    "\n",
    "# Find the frames in camera frame\n",
    "\n",
    "# Plot the coordinate systems in world frame using the 'plot_frame' function \n",
    "\n",
    "# Set title and add annotations\n",
    "\n"
   ]
  }
 ],
 "metadata": {
  "kernelspec": {
   "display_name": "base",
   "language": "python",
   "name": "python3"
  },
  "language_info": {
   "codemirror_mode": {
    "name": "ipython",
    "version": 3
   },
   "file_extension": ".py",
   "mimetype": "text/x-python",
   "name": "python",
   "nbconvert_exporter": "python",
   "pygments_lexer": "ipython3",
   "version": "3.10.12"
  }
 },
 "nbformat": 4,
 "nbformat_minor": 2
}
